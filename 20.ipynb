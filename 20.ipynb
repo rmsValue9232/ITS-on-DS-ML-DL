{
 "cells": [
  {
   "cell_type": "code",
   "execution_count": 2,
   "metadata": {},
   "outputs": [],
   "source": [
    "import tensorflow as tf\n",
    "from keras.datasets import cifar10\n",
    "import numpy as np\n",
    "import numpy.random as nr\n",
    "import matplotlib.pyplot as plt\n",
    "from keras.models import Sequential\n",
    "from keras.layers import Dense\n",
    "from sklearn.metrics import accuracy_score\n",
    "from keras.layers import Conv2D\n",
    "from keras.layers import MaxPooling2D\n",
    "from keras.layers import Flatten\n",
    "from keras.optimizers import SGD\n",
    "nc = 10 # Number of classes"
   ]
  },
  {
   "cell_type": "code",
   "execution_count": 3,
   "metadata": {},
   "outputs": [],
   "source": [
    "(Xtrain, ytrain), (Xtest, ytest) = cifar10.load_data()"
   ]
  },
  {
   "cell_type": "code",
   "execution_count": 4,
   "metadata": {},
   "outputs": [
    {
     "data": {
      "image/png": "[encoded data removed]",
      "text/plain": [
       "<Figure size 640x480 with 1 Axes>"
      ]
     },
     "metadata": {},
     "output_type": "display_data"
    },
    {
     "data": {
      "image/png": "[encoded data removed]",
      "text/plain": [
       "<Figure size 640x480 with 1 Axes>"
      ]
     },
     "metadata": {},
     "output_type": "display_data"
    }
   ],
   "source": [
    "#Show sample images\n",
    "plt.figure(1)\n",
    "imgplot1 = plt.imshow(Xtrain[nr.randint(50000)])\n",
    "plt.show()\n",
    "\n",
    "plt.figure(2)\n",
    "imgplot2 = plt.imshow(Xtrain[nr.randint(50000)])\n",
    "plt.show()"
   ]
  },
  {
   "cell_type": "code",
   "execution_count": 5,
   "metadata": {},
   "outputs": [],
   "source": [
    "Xtrain = Xtrain.astype('float32')\n",
    "Xtrain = Xtrain[0:20000,:] / 255.0\n",
    "Xtest = Xtest.astype('float32')\n",
    "Xtest = Xtest / 255.0"
   ]
  },
  {
   "cell_type": "code",
   "execution_count": 6,
   "metadata": {},
   "outputs": [],
   "source": [
    "ytrain = ytrain[:,0]\n",
    "ytrainEnc = tf.one_hot(ytrain[0:20000], depth=nc)\n",
    "ytest = ytest[:,0]\n",
    "ytestEnc = tf.one_hot(ytest, depth=nc)"
   ]
  },
  {
   "cell_type": "code",
   "execution_count": 8,
   "metadata": {},
   "outputs": [
    {
     "data": {
      "text/plain": [
       "TensorShape([20000, 10])"
      ]
     },
     "execution_count": 8,
     "metadata": {},
     "output_type": "execute_result"
    }
   ],
   "source": [
    "ytrainEnc.shape"
   ]
  },
  {
   "cell_type": "code",
   "execution_count": 9,
   "metadata": {},
   "outputs": [],
   "source": [
    "model = Sequential()\n",
    "model.add(Conv2D(32,(3,3),activation='relu',kernel_initializer='he_uniform', padding='same',input_shape=(32,32,3)))\n",
    "model.add(Conv2D(32,(3,3),activation='relu',kernel_initializer='he_uniform', padding='same'))\n",
    "model.add(MaxPooling2D(2,2))\n",
    "model.add(Conv2D(64,(3,3),activation='relu',kernel_initializer='he_uniform', padding='same'))\n",
    "model.add(Conv2D(64,(3,3),activation='relu',kernel_initializer='he_uniform', padding='same'))\n",
    "model.add(MaxPooling2D(2,2))\n",
    "model.add(Conv2D(128,(3,3),activation='relu',kernel_initializer='he_uniform', padding='same'))\n",
    "model.add(Conv2D(128,(3,3),activation='relu',kernel_initializer='he_uniform', padding='same'))\n",
    "model.add(MaxPooling2D(2,2))\n",
    "\n",
    "model.add(Flatten())\n",
    "model.add(Dense(128,activation='relu',kernel_initializer='he_uniform'))\n",
    "model.add(Dense(10,activation='softmax'))\n",
    "opt = SGD(learning_rate=0.001,momentum=0.9)\n",
    "model.compile(optimizer=opt,loss='categorical_crossentropy', metrics=['accuracy'])"
   ]
  },
  {
   "cell_type": "code",
   "execution_count": 10,
   "metadata": {},
   "outputs": [
    {
     "name": "stdout",
     "output_type": "stream",
     "text": [
      "Epoch 1/5\n",
      "37/37 [==============================] - 52s 1s/step - loss: 2.2357 - accuracy: 0.1733 - val_loss: 2.1029 - val_accuracy: 0.2690\n",
      "Epoch 2/5\n",
      "37/37 [==============================] - 53s 1s/step - loss: 1.9963 - accuracy: 0.2931 - val_loss: 1.9183 - val_accuracy: 0.3097\n",
      "Epoch 3/5\n",
      "37/37 [==============================] - 52s 1s/step - loss: 1.8527 - accuracy: 0.3381 - val_loss: 1.8200 - val_accuracy: 0.3494\n",
      "Epoch 4/5\n",
      "37/37 [==============================] - 50s 1s/step - loss: 1.7715 - accuracy: 0.3690 - val_loss: 1.7421 - val_accuracy: 0.3775\n",
      "Epoch 5/5\n",
      "37/37 [==============================] - 46s 1s/step - loss: 1.7000 - accuracy: 0.3961 - val_loss: 1.6620 - val_accuracy: 0.4099\n"
     ]
    }
   ],
   "source": [
    "history = model.fit(Xtrain, ytrainEnc, epochs=5, batch_size=550,validation_data=(Xtest, ytestEnc))"
   ]
  },
  {
   "cell_type": "code",
   "execution_count": 11,
   "metadata": {},
   "outputs": [
    {
     "name": "stdout",
     "output_type": "stream",
     "text": [
      "313/313 [==============================] - 11s 33ms/step\n",
      "Accuracy score is 40.99 %\n"
     ]
    }
   ],
   "source": [
    "ypred = model.predict(Xtest)\n",
    "ypred = np.argmax(ypred,axis=1)\n",
    "\n",
    "score = accuracy_score(ypred,ytest)\n",
    "print('Accuracy score is',100*score,'%')"
   ]
  },
  {
   "cell_type": "code",
   "execution_count": null,
   "metadata": {},
   "outputs": [],
   "source": []
  }
 ],
 "metadata": {
  "kernelspec": {
   "display_name": "ML_env",
   "language": "python",
   "name": "python3"
  },
  "language_info": {
   "codemirror_mode": {
    "name": "ipython",
    "version": 3
   },
   "file_extension": ".py",
   "mimetype": "text/x-python",
   "name": "python",
   "nbconvert_exporter": "python",
   "pygments_lexer": "ipython3",
   "version": "3.10.13"
  }
 },
 "nbformat": 4,
 "nbformat_minor": 2
}
